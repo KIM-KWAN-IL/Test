{
  "nbformat": 4,
  "nbformat_minor": 0,
  "metadata": {
    "colab": {
      "provenance": [],
      "authorship_tag": "ABX9TyMk6MP3ZfEc8sWIYiOYxjW7",
      "include_colab_link": true
    },
    "kernelspec": {
      "name": "python3",
      "display_name": "Python 3"
    },
    "language_info": {
      "name": "python"
    }
  },
  "cells": [
    {
      "cell_type": "markdown",
      "metadata": {
        "id": "view-in-github",
        "colab_type": "text"
      },
      "source": [
        "<a href=\"https://colab.research.google.com/github/KIM-KWAN-IL/Test/blob/main/Kakao_Test.ipynb\" target=\"_parent\"><img src=\"https://colab.research.google.com/assets/colab-badge.svg\" alt=\"Open In Colab\"/></a>"
      ]
    },
    {
      "cell_type": "code",
      "execution_count": null,
      "metadata": {
        "id": "DtwPSMWahgiz"
      },
      "outputs": [],
      "source": [
        "import requests\n",
        "from PIL import Image\n",
        "from io import BytesIO"
      ]
    },
    {
      "cell_type": "code",
      "source": [
        "image_url='https://images.mypetlife.co.kr/content/uploads/2023/02/06162551/AdobeStock_88815129-1024x683.jpeg'\n",
        "\n",
        "image = Image.open(BytesIO(requests.get(image_url).content))\n",
        "image\n",
        "key='227b13c5f38b4f91977c58ecf657f92f'\n",
        "endpoint='https://kwanku-cv.cognitiveservices.azure.com/'"
      ],
      "metadata": {
        "id": "PpiY4yq2iHdq"
      },
      "execution_count": null,
      "outputs": []
    },
    {
      "cell_type": "code",
      "source": [
        "endpoint_vision=endpoint + 'vision/v2.0/'\n",
        "endpoint_vision_analyze = endpoint_vision + 'analyze'"
      ],
      "metadata": {
        "id": "_Mauauo6icTA"
      },
      "execution_count": null,
      "outputs": []
    },
    {
      "cell_type": "code",
      "source": [
        "headers = {'Ocp-Apim-Subscription-Key': key}\n",
        "params = {'VisualFeatures':'Categories,Description,Color'}\n",
        "data={'url': image_url}\n"
      ],
      "metadata": {
        "id": "_bmho7qBlVlV"
      },
      "execution_count": null,
      "outputs": []
    },
    {
      "cell_type": "code",
      "source": [
        "response= requests.post(endpoint_vision_analyze,\n",
        "              headers= headers,\n",
        "              json=data)"
      ],
      "metadata": {
        "id": "R9P2jtrnmifC"
      },
      "execution_count": null,
      "outputs": []
    },
    {
      "cell_type": "code",
      "source": [
        "result= response.json()\n",
        "result['categories']"
      ],
      "metadata": {
        "colab": {
          "base_uri": "https://localhost:8080/"
        },
        "id": "P8oWgmNsnMD3",
        "outputId": "abe20e8a-3ba6-4765-b7c7-6cda9e2f10d9"
      },
      "execution_count": null,
      "outputs": [
        {
          "output_type": "execute_result",
          "data": {
            "text/plain": [
              "[]"
            ]
          },
          "metadata": {},
          "execution_count": 66
        }
      ]
    },
    {
      "cell_type": "code",
      "source": [],
      "metadata": {
        "id": "4vU8HDUHoJQR"
      },
      "execution_count": null,
      "outputs": []
    }
  ]
}