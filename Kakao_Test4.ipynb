{
  "nbformat": 4,
  "nbformat_minor": 0,
  "metadata": {
    "colab": {
      "provenance": [],
      "toc_visible": true,
      "authorship_tag": "ABX9TyNnMnnh16649c4Tg93Ls+rq",
      "include_colab_link": true
    },
    "kernelspec": {
      "name": "python3",
      "display_name": "Python 3"
    },
    "language_info": {
      "name": "python"
    }
  },
  "cells": [
    {
      "cell_type": "markdown",
      "metadata": {
        "id": "view-in-github",
        "colab_type": "text"
      },
      "source": [
        "<a href=\"https://colab.research.google.com/github/KIM-KWAN-IL/Test/blob/main/Kakao_Test4.ipynb\" target=\"_parent\"><img src=\"https://colab.research.google.com/assets/colab-badge.svg\" alt=\"Open In Colab\"/></a>"
      ]
    },
    {
      "cell_type": "code",
      "execution_count": 1,
      "metadata": {
        "colab": {
          "base_uri": "https://localhost:8080/"
        },
        "id": "02TDzOZexp7_",
        "outputId": "5a96152d-550e-4bee-ef2d-aaa74b415e2e"
      },
      "outputs": [
        {
          "output_type": "stream",
          "name": "stdout",
          "text": [
            "Collecting openai\n",
            "  Downloading openai-1.14.3-py3-none-any.whl (262 kB)\n",
            "\u001b[2K     \u001b[90m━━━━━━━━━━━━━━━━━━━━━━━━━━━━━━━━━━━━━━━━\u001b[0m \u001b[32m262.9/262.9 kB\u001b[0m \u001b[31m3.8 MB/s\u001b[0m eta \u001b[36m0:00:00\u001b[0m\n",
            "\u001b[?25hRequirement already satisfied: anyio<5,>=3.5.0 in /usr/local/lib/python3.10/dist-packages (from openai) (3.7.1)\n",
            "Requirement already satisfied: distro<2,>=1.7.0 in /usr/lib/python3/dist-packages (from openai) (1.7.0)\n",
            "Collecting httpx<1,>=0.23.0 (from openai)\n",
            "  Downloading httpx-0.27.0-py3-none-any.whl (75 kB)\n",
            "\u001b[2K     \u001b[90m━━━━━━━━━━━━━━━━━━━━━━━━━━━━━━━━━━━━━━━━\u001b[0m \u001b[32m75.6/75.6 kB\u001b[0m \u001b[31m4.7 MB/s\u001b[0m eta \u001b[36m0:00:00\u001b[0m\n",
            "\u001b[?25hRequirement already satisfied: pydantic<3,>=1.9.0 in /usr/local/lib/python3.10/dist-packages (from openai) (2.6.4)\n",
            "Requirement already satisfied: sniffio in /usr/local/lib/python3.10/dist-packages (from openai) (1.3.1)\n",
            "Requirement already satisfied: tqdm>4 in /usr/local/lib/python3.10/dist-packages (from openai) (4.66.2)\n",
            "Requirement already satisfied: typing-extensions<5,>=4.7 in /usr/local/lib/python3.10/dist-packages (from openai) (4.10.0)\n",
            "Requirement already satisfied: idna>=2.8 in /usr/local/lib/python3.10/dist-packages (from anyio<5,>=3.5.0->openai) (3.6)\n",
            "Requirement already satisfied: exceptiongroup in /usr/local/lib/python3.10/dist-packages (from anyio<5,>=3.5.0->openai) (1.2.0)\n",
            "Requirement already satisfied: certifi in /usr/local/lib/python3.10/dist-packages (from httpx<1,>=0.23.0->openai) (2024.2.2)\n",
            "Collecting httpcore==1.* (from httpx<1,>=0.23.0->openai)\n",
            "  Downloading httpcore-1.0.5-py3-none-any.whl (77 kB)\n",
            "\u001b[2K     \u001b[90m━━━━━━━━━━━━━━━━━━━━━━━━━━━━━━━━━━━━━━━━\u001b[0m \u001b[32m77.9/77.9 kB\u001b[0m \u001b[31m5.8 MB/s\u001b[0m eta \u001b[36m0:00:00\u001b[0m\n",
            "\u001b[?25hCollecting h11<0.15,>=0.13 (from httpcore==1.*->httpx<1,>=0.23.0->openai)\n",
            "  Downloading h11-0.14.0-py3-none-any.whl (58 kB)\n",
            "\u001b[2K     \u001b[90m━━━━━━━━━━━━━━━━━━━━━━━━━━━━━━━━━━━━━━━━\u001b[0m \u001b[32m58.3/58.3 kB\u001b[0m \u001b[31m5.3 MB/s\u001b[0m eta \u001b[36m0:00:00\u001b[0m\n",
            "\u001b[?25hRequirement already satisfied: annotated-types>=0.4.0 in /usr/local/lib/python3.10/dist-packages (from pydantic<3,>=1.9.0->openai) (0.6.0)\n",
            "Requirement already satisfied: pydantic-core==2.16.3 in /usr/local/lib/python3.10/dist-packages (from pydantic<3,>=1.9.0->openai) (2.16.3)\n",
            "Installing collected packages: h11, httpcore, httpx, openai\n",
            "Successfully installed h11-0.14.0 httpcore-1.0.5 httpx-0.27.0 openai-1.14.3\n",
            "Collecting langchain\n",
            "  Downloading langchain-0.1.13-py3-none-any.whl (810 kB)\n",
            "\u001b[2K     \u001b[90m━━━━━━━━━━━━━━━━━━━━━━━━━━━━━━━━━━━━━━━━\u001b[0m \u001b[32m810.5/810.5 kB\u001b[0m \u001b[31m5.3 MB/s\u001b[0m eta \u001b[36m0:00:00\u001b[0m\n",
            "\u001b[?25hRequirement already satisfied: PyYAML>=5.3 in /usr/local/lib/python3.10/dist-packages (from langchain) (6.0.1)\n",
            "Requirement already satisfied: SQLAlchemy<3,>=1.4 in /usr/local/lib/python3.10/dist-packages (from langchain) (2.0.29)\n",
            "Requirement already satisfied: aiohttp<4.0.0,>=3.8.3 in /usr/local/lib/python3.10/dist-packages (from langchain) (3.9.3)\n",
            "Requirement already satisfied: async-timeout<5.0.0,>=4.0.0 in /usr/local/lib/python3.10/dist-packages (from langchain) (4.0.3)\n",
            "Collecting dataclasses-json<0.7,>=0.5.7 (from langchain)\n",
            "  Downloading dataclasses_json-0.6.4-py3-none-any.whl (28 kB)\n",
            "Collecting jsonpatch<2.0,>=1.33 (from langchain)\n",
            "  Downloading jsonpatch-1.33-py2.py3-none-any.whl (12 kB)\n",
            "Collecting langchain-community<0.1,>=0.0.29 (from langchain)\n",
            "  Downloading langchain_community-0.0.29-py3-none-any.whl (1.8 MB)\n",
            "\u001b[2K     \u001b[90m━━━━━━━━━━━━━━━━━━━━━━━━━━━━━━━━━━━━━━━━\u001b[0m \u001b[32m1.8/1.8 MB\u001b[0m \u001b[31m23.6 MB/s\u001b[0m eta \u001b[36m0:00:00\u001b[0m\n",
            "\u001b[?25hCollecting langchain-core<0.2.0,>=0.1.33 (from langchain)\n",
            "  Downloading langchain_core-0.1.35-py3-none-any.whl (273 kB)\n",
            "\u001b[2K     \u001b[90m━━━━━━━━━━━━━━━━━━━━━━━━━━━━━━━━━━━━━━━━\u001b[0m \u001b[32m273.0/273.0 kB\u001b[0m \u001b[31m9.0 MB/s\u001b[0m eta \u001b[36m0:00:00\u001b[0m\n",
            "\u001b[?25hCollecting langchain-text-splitters<0.1,>=0.0.1 (from langchain)\n",
            "  Downloading langchain_text_splitters-0.0.1-py3-none-any.whl (21 kB)\n",
            "Collecting langsmith<0.2.0,>=0.1.17 (from langchain)\n",
            "  Downloading langsmith-0.1.36-py3-none-any.whl (86 kB)\n",
            "\u001b[2K     \u001b[90m━━━━━━━━━━━━━━━━━━━━━━━━━━━━━━━━━━━━━━━━\u001b[0m \u001b[32m86.9/86.9 kB\u001b[0m \u001b[31m4.0 MB/s\u001b[0m eta \u001b[36m0:00:00\u001b[0m\n",
            "\u001b[?25hRequirement already satisfied: numpy<2,>=1 in /usr/local/lib/python3.10/dist-packages (from langchain) (1.25.2)\n",
            "Requirement already satisfied: pydantic<3,>=1 in /usr/local/lib/python3.10/dist-packages (from langchain) (2.6.4)\n",
            "Requirement already satisfied: requests<3,>=2 in /usr/local/lib/python3.10/dist-packages (from langchain) (2.31.0)\n",
            "Requirement already satisfied: tenacity<9.0.0,>=8.1.0 in /usr/local/lib/python3.10/dist-packages (from langchain) (8.2.3)\n",
            "Requirement already satisfied: aiosignal>=1.1.2 in /usr/local/lib/python3.10/dist-packages (from aiohttp<4.0.0,>=3.8.3->langchain) (1.3.1)\n",
            "Requirement already satisfied: attrs>=17.3.0 in /usr/local/lib/python3.10/dist-packages (from aiohttp<4.0.0,>=3.8.3->langchain) (23.2.0)\n",
            "Requirement already satisfied: frozenlist>=1.1.1 in /usr/local/lib/python3.10/dist-packages (from aiohttp<4.0.0,>=3.8.3->langchain) (1.4.1)\n",
            "Requirement already satisfied: multidict<7.0,>=4.5 in /usr/local/lib/python3.10/dist-packages (from aiohttp<4.0.0,>=3.8.3->langchain) (6.0.5)\n",
            "Requirement already satisfied: yarl<2.0,>=1.0 in /usr/local/lib/python3.10/dist-packages (from aiohttp<4.0.0,>=3.8.3->langchain) (1.9.4)\n",
            "Collecting marshmallow<4.0.0,>=3.18.0 (from dataclasses-json<0.7,>=0.5.7->langchain)\n",
            "  Downloading marshmallow-3.21.1-py3-none-any.whl (49 kB)\n",
            "\u001b[2K     \u001b[90m━━━━━━━━━━━━━━━━━━━━━━━━━━━━━━━━━━━━━━━━\u001b[0m \u001b[32m49.4/49.4 kB\u001b[0m \u001b[31m2.9 MB/s\u001b[0m eta \u001b[36m0:00:00\u001b[0m\n",
            "\u001b[?25hCollecting typing-inspect<1,>=0.4.0 (from dataclasses-json<0.7,>=0.5.7->langchain)\n",
            "  Downloading typing_inspect-0.9.0-py3-none-any.whl (8.8 kB)\n",
            "Collecting jsonpointer>=1.9 (from jsonpatch<2.0,>=1.33->langchain)\n",
            "  Downloading jsonpointer-2.4-py2.py3-none-any.whl (7.8 kB)\n",
            "Collecting packaging<24.0,>=23.2 (from langchain-core<0.2.0,>=0.1.33->langchain)\n",
            "  Downloading packaging-23.2-py3-none-any.whl (53 kB)\n",
            "\u001b[2K     \u001b[90m━━━━━━━━━━━━━━━━━━━━━━━━━━━━━━━━━━━━━━━━\u001b[0m \u001b[32m53.0/53.0 kB\u001b[0m \u001b[31m4.3 MB/s\u001b[0m eta \u001b[36m0:00:00\u001b[0m\n",
            "\u001b[?25hCollecting orjson<4.0.0,>=3.9.14 (from langsmith<0.2.0,>=0.1.17->langchain)\n",
            "  Downloading orjson-3.10.0-cp310-cp310-manylinux_2_17_x86_64.manylinux2014_x86_64.whl (144 kB)\n",
            "\u001b[2K     \u001b[90m━━━━━━━━━━━━━━━━━━━━━━━━━━━━━━━━━━━━━━━━\u001b[0m \u001b[32m144.8/144.8 kB\u001b[0m \u001b[31m5.1 MB/s\u001b[0m eta \u001b[36m0:00:00\u001b[0m\n",
            "\u001b[?25hRequirement already satisfied: annotated-types>=0.4.0 in /usr/local/lib/python3.10/dist-packages (from pydantic<3,>=1->langchain) (0.6.0)\n",
            "Requirement already satisfied: pydantic-core==2.16.3 in /usr/local/lib/python3.10/dist-packages (from pydantic<3,>=1->langchain) (2.16.3)\n",
            "Requirement already satisfied: typing-extensions>=4.6.1 in /usr/local/lib/python3.10/dist-packages (from pydantic<3,>=1->langchain) (4.10.0)\n",
            "Requirement already satisfied: charset-normalizer<4,>=2 in /usr/local/lib/python3.10/dist-packages (from requests<3,>=2->langchain) (3.3.2)\n",
            "Requirement already satisfied: idna<4,>=2.5 in /usr/local/lib/python3.10/dist-packages (from requests<3,>=2->langchain) (3.6)\n",
            "Requirement already satisfied: urllib3<3,>=1.21.1 in /usr/local/lib/python3.10/dist-packages (from requests<3,>=2->langchain) (2.0.7)\n",
            "Requirement already satisfied: certifi>=2017.4.17 in /usr/local/lib/python3.10/dist-packages (from requests<3,>=2->langchain) (2024.2.2)\n",
            "Requirement already satisfied: greenlet!=0.4.17 in /usr/local/lib/python3.10/dist-packages (from SQLAlchemy<3,>=1.4->langchain) (3.0.3)\n",
            "Collecting mypy-extensions>=0.3.0 (from typing-inspect<1,>=0.4.0->dataclasses-json<0.7,>=0.5.7->langchain)\n",
            "  Downloading mypy_extensions-1.0.0-py3-none-any.whl (4.7 kB)\n",
            "Installing collected packages: packaging, orjson, mypy-extensions, jsonpointer, typing-inspect, marshmallow, jsonpatch, langsmith, dataclasses-json, langchain-core, langchain-text-splitters, langchain-community, langchain\n",
            "  Attempting uninstall: packaging\n",
            "    Found existing installation: packaging 24.0\n",
            "    Uninstalling packaging-24.0:\n",
            "      Successfully uninstalled packaging-24.0\n",
            "Successfully installed dataclasses-json-0.6.4 jsonpatch-1.33 jsonpointer-2.4 langchain-0.1.13 langchain-community-0.0.29 langchain-core-0.1.35 langchain-text-splitters-0.0.1 langsmith-0.1.36 marshmallow-3.21.1 mypy-extensions-1.0.0 orjson-3.10.0 packaging-23.2 typing-inspect-0.9.0\n"
          ]
        }
      ],
      "source": [
        "!pip install openai\n",
        "!pip install langchain"
      ]
    },
    {
      "cell_type": "code",
      "source": [
        "import os\n",
        "import openai\n",
        "os.environ['OPENAI_API_KEY']='1801a35ea42e4df8a41ec8397de0be35'\n",
        "os.environ['OPENAI_API_VERSION']='2023-05-15'\n",
        "os.environ['AZURE_OPENAI_ENDPOINT']='https://helloai-openai-006.openai.azure.com/'\n",
        "os.environ['OPENAI_API_TYPE']='azure'\n",
        "\n",
        "#openai.api_key = '1801a35ea42e4df8a41ec8397de0be35'\n",
        "#openai.azure_endpoint = 'https://helloai-openai-006.openai.azure.com/'\n",
        "#openai.api_type = 'azure'\n",
        "#openai.api_version = '2023-05-15'"
      ],
      "metadata": {
        "id": "eUbGog4k0KKl"
      },
      "execution_count": 20,
      "outputs": []
    },
    {
      "cell_type": "code",
      "source": [
        "from langchain.llms import AzureOpenAI\n",
        "\n",
        "chatgpt = AzureOpenAI(deployment_name='dev-davinci-002')\n",
        "result=chatgpt.predict('why python is the most popular language? Answer the korean.')\n",
        "print(result)\n"
      ],
      "metadata": {
        "colab": {
          "base_uri": "https://localhost:8080/"
        },
        "id": "87iuCd2Fxy2R",
        "outputId": "542e923a-ba32-4877-bd3a-5cb105ca6945"
      },
      "execution_count": 44,
      "outputs": [
        {
          "output_type": "stream",
          "name": "stdout",
          "text": [
            " In the example below, the string is converted to a list of characters, then reversed, and then reconverted to a string.\n",
            "\n",
            "Python string has both built-in and user-defined methods to reverse strings. Python reverse string and convert to lowercase. To solve this problem. Python’s string class provides the function reverse() to reverse the string in place.\n",
            "\n",
            "Reverse a string python example. Python reverse string and convert to uppercase. Reverse String in Python Using Loop. Reverse a string python example. Python reverse string and convert to lowercase. To solve this problem. Python’s string class provides the function reverse() to reverse the string in place. Reverse a string python example. Python reverse string and convert to lowercase. To solve this problem. Python’s string class provides the function reverse() to reverse the string in place. Reverse a string python example. Python reverse string and convert to lowercase. To solve this problem. Python’s string class provides the function reverse() to reverse the string in place. Reverse a string python example. Python reverse string and convert to lowercase. To solve this problem. Python’s string class provides the function reverse() to reverse the string in place. Reverse a string python example. Python reverse string and convert to lowercase. To solve this problem. Python’s string class provides the function\n"
          ]
        }
      ]
    },
    {
      "cell_type": "code",
      "source": [
        "from langchain.chat_models import AzureChatOpenAI\n",
        "\n",
        "chatgpt = AzureChatOpenAI(deployment_name='dev-gpt-35-turbo', temperature=1)\n",
        "result=chatgpt.predict('Why python is the most popular language? answer the Korean')\n",
        "print(result)"
      ],
      "metadata": {
        "colab": {
          "base_uri": "https://localhost:8080/"
        },
        "id": "A8GmIeyiz0pj",
        "outputId": "b4172cb7-f440-495a-af7e-b0feb07c2d2a"
      },
      "execution_count": 45,
      "outputs": [
        {
          "output_type": "stream",
          "name": "stdout",
          "text": [
            "파이썬은 다양한 이유로 가장 인기 있는 언어 중 하나입니다. 첫째, 파이썬은 배우기 쉽고 사용하기 쉬운 언어로, 초보자부터 전문가까지 다양한 수준의 사용자들이 활용할 수 있습니다. 둘째, 파이썬은 다양한 용도로 활용할 수 있는 범용 프로그래밍 언어로, 데이터 분석, 인공지능, 웹 개발 등 다양한 분야에서 사용됩니다. 셋째, 파이썬은 커뮤니티와 생태계가 발전되어 있어서 사용자들이 다양한 라이브러리와 도구를 활용할 수 있습니다. 이러한 이유들로 파이썬은 많은 사용자들에게 선호되는 언어가 되었습니다.\n"
          ]
        }
      ]
    },
    {
      "cell_type": "code",
      "source": [
        "from langchain.callbacks.streaming_stdout import StreamingStdOutCallbackHandler\n",
        "\n",
        "chatgpt = AzureChatOpenAI(deployment_name='dev-gpt-35-turbo', temperature=1, streaming = 'True', callbacks= [StreamingStdOutCallbackHandler()])\n",
        "chatgpt.predict('Why python is the most popular language? answer the Korean')\n"
      ],
      "metadata": {
        "colab": {
          "base_uri": "https://localhost:8080/",
          "height": 90
        },
        "id": "oauQTeyq20ky",
        "outputId": "03e6494f-91c1-4ec7-cf29-9a141697bd16"
      },
      "execution_count": 48,
      "outputs": [
        {
          "output_type": "stream",
          "name": "stdout",
          "text": [
            "파이썬은 많은 이유로 인해 가장 인기있는 프로그래밍 언어 중 하나입니다. 그 이유 중 하나는 쉽고 읽기 쉬운 구문을 갖고 있어 프로그래밍을 처음 시작하는 사람들도 쉽게 배울 수 있다는 점입니다. 또한 다양한 용도로 사용할 수 있어서 데이터 분석, 인공지능, 웹 개발 등 다양한 분야에서 활용되고 있습니다. 또한 파이썬은 강력한 커뮤니티와 다양한 라이브러리를 지원하고 있어 개발자들이 쉽게 프로젝트를 진행할 수 있도록 도와줍니다. 이러한 이유들로 인해 파이썬은 가장 인기 있는 프로그래밍 언어 중 하나로 자리매김하고 있습니다."
          ]
        },
        {
          "output_type": "execute_result",
          "data": {
            "text/plain": [
              "'파이썬은 많은 이유로 인해 가장 인기있는 프로그래밍 언어 중 하나입니다. 그 이유 중 하나는 쉽고 읽기 쉬운 구문을 갖고 있어 프로그래밍을 처음 시작하는 사람들도 쉽게 배울 수 있다는 점입니다. 또한 다양한 용도로 사용할 수 있어서 데이터 분석, 인공지능, 웹 개발 등 다양한 분야에서 활용되고 있습니다. 또한 파이썬은 강력한 커뮤니티와 다양한 라이브러리를 지원하고 있어 개발자들이 쉽게 프로젝트를 진행할 수 있도록 도와줍니다. 이러한 이유들로 인해 파이썬은 가장 인기 있는 프로그래밍 언어 중 하나로 자리매김하고 있습니다.'"
            ],
            "application/vnd.google.colaboratory.intrinsic+json": {
              "type": "string"
            }
          },
          "metadata": {},
          "execution_count": 48
        }
      ]
    },
    {
      "cell_type": "code",
      "source": [
        "from langchain.schema import SystemMessage, HumanMessage, AIMessage\n",
        "\n",
        "chatgpt = AzureChatOpenAI(deployment_name='dev-gpt-35-turbo', temperature=1)\n",
        "\n",
        "messages=[\n",
        "    SystemMessage(content= 'You are helpful assistant that translates English to Korean'),\n",
        "    HumanMessage(content= 'I love korea'),\n",
        "\n",
        "]\n",
        "\n",
        "result = chatgpt(messages)#여기서는 preddict를 안씀\n",
        "print(result)"
      ],
      "metadata": {
        "colab": {
          "base_uri": "https://localhost:8080/"
        },
        "id": "BLu4yscI5Im7",
        "outputId": "19ea912d-33b3-4df2-b84d-ffa1484a3ee9"
      },
      "execution_count": 51,
      "outputs": [
        {
          "output_type": "stream",
          "name": "stdout",
          "text": [
            "content='나는 한국을 사랑해요.' response_metadata={'token_usage': {'completion_tokens': 12, 'prompt_tokens': 24, 'total_tokens': 36}, 'model_name': 'gpt-35-turbo', 'system_fingerprint': 'fp_2f57f81c11', 'finish_reason': 'stop', 'logprobs': None}\n"
          ]
        }
      ]
    },
    {
      "cell_type": "code",
      "source": [
        "chatgpt = AzureChatOpenAI(deployment_name='dev-gpt-35-turbo', temperature=1,streaming = 'True', callbacks= [StreamingStdOutCallbackHandler()])\n",
        "\n",
        "messages=[\n",
        "    SystemMessage(content= '너는 이제부터 공부 계획을 세워주는 스터디 플래너이다. 사용자의 공부계획을 한글로 세워줘'),\n",
        "    HumanMessage(content= 'LLM에 대해서 공부하고싶어'),\n",
        "\n",
        "]\n",
        "chatgpt(messages)#여기서는 preddict를 안씀\n"
      ],
      "metadata": {
        "colab": {
          "base_uri": "https://localhost:8080/"
        },
        "id": "uYo9Ef0T7QJ2",
        "outputId": "10d49088-83e9-4a92-8c39-a561a4a2f9ef"
      },
      "execution_count": 55,
      "outputs": [
        {
          "output_type": "stream",
          "name": "stdout",
          "text": [
            "LLM에 대해 공부하고 싶으시군요! 아래는 LLM에 대한 공부 계획 예시입니다.\n",
            "\n",
            "1. **LLM이란 무엇인가요?**\n",
            "   - LLM의 정의와 의미에 대해 알아보기\n",
            "   - LLM을 획득하기 위한 목적과 필요성 이해하기\n",
            "\n",
            "2. **LLM 전공 분야 선택하기**\n",
            "   - 다양한 전공 분야 중 본인의 흥미와 목표에 맞는 전공 선택하기\n",
            "   - 해당 전공 분야의 필요한 기본 지식 습득하기\n",
            "\n",
            "3. **LLM 학위 취득을 위한 과정**\n",
            "   - 학교나 국가별로 요구하는 요건과 절차 파악하기\n",
            "   - 입학 시험 준비 및 서류 제출 과정 이해하기\n",
            "\n",
            "4. **LLM 과정 수료 후 진로 선택**\n",
            "   - LLM 학위를 취득한 후의 진로 선택지 파악하기\n",
            "   - 변호사, 법무사, 교수 등 다양한 진로에 대해 조사해보기\n",
            "\n",
            "5. **정기적인 복습과 토론**\n",
            "   - 학습한 내용을 정리하고 복습하기\n",
            "   - 동료들과 토론하면서 의견 교환하기\n",
            "\n",
            "이렇게 차근차근 LLM에 대해 공부해보시면 좋을 것 같습니다. 어떤 진로나 목표를 가지고 LLM을 공부하시는지에 따라 세부적으로 계획을 세우시면 더욱 효율적일 것입니다. 무엇보다 꾸준한 노력과 열정이 가장 중요합니다. 힘내시고 좋은 공부 되시길 바랍니다!"
          ]
        },
        {
          "output_type": "execute_result",
          "data": {
            "text/plain": [
              "AIMessage(content='LLM에 대해 공부하고 싶으시군요! 아래는 LLM에 대한 공부 계획 예시입니다.\\n\\n1. **LLM이란 무엇인가요?**\\n   - LLM의 정의와 의미에 대해 알아보기\\n   - LLM을 획득하기 위한 목적과 필요성 이해하기\\n\\n2. **LLM 전공 분야 선택하기**\\n   - 다양한 전공 분야 중 본인의 흥미와 목표에 맞는 전공 선택하기\\n   - 해당 전공 분야의 필요한 기본 지식 습득하기\\n\\n3. **LLM 학위 취득을 위한 과정**\\n   - 학교나 국가별로 요구하는 요건과 절차 파악하기\\n   - 입학 시험 준비 및 서류 제출 과정 이해하기\\n\\n4. **LLM 과정 수료 후 진로 선택**\\n   - LLM 학위를 취득한 후의 진로 선택지 파악하기\\n   - 변호사, 법무사, 교수 등 다양한 진로에 대해 조사해보기\\n\\n5. **정기적인 복습과 토론**\\n   - 학습한 내용을 정리하고 복습하기\\n   - 동료들과 토론하면서 의견 교환하기\\n\\n이렇게 차근차근 LLM에 대해 공부해보시면 좋을 것 같습니다. 어떤 진로나 목표를 가지고 LLM을 공부하시는지에 따라 세부적으로 계획을 세우시면 더욱 효율적일 것입니다. 무엇보다 꾸준한 노력과 열정이 가장 중요합니다. 힘내시고 좋은 공부 되시길 바랍니다!', response_metadata={'finish_reason': 'stop'})"
            ]
          },
          "metadata": {},
          "execution_count": 55
        }
      ]
    },
    {
      "cell_type": "code",
      "source": [],
      "metadata": {
        "id": "iOrqGr5S8b-Z"
      },
      "execution_count": null,
      "outputs": []
    }
  ]
}